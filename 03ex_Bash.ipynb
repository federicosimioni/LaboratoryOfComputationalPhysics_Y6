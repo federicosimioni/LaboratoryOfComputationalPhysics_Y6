{
 "cells": [
  {
   "cell_type": "markdown",
   "id": "b5746bd0",
   "metadata": {},
   "source": [
    "The following exercises are meant to be solved by gathering the bash commands incrimentally in two scripts, one for ex 1.* the other for ex 2.* "
   ]
  },
  {
   "cell_type": "markdown",
   "id": "4e60de78",
   "metadata": {},
   "source": [
    "### Ex 1"
   ]
  },
  {
   "cell_type": "markdown",
   "id": "6759df36",
   "metadata": {},
   "source": [
    "1\\.a Make a new directory called `students` in your home. Download a csv file with the list of students of this lab from [here](https://www.dropbox.com/s/867rtx3az6e9gm8/LCP_22-23_students.csv) (use the `wget` command) and copy that to `students`. First check whether the file is already there"
   ]
  },
  {
   "cell_type": "markdown",
   "id": "798c0c9d",
   "metadata": {},
   "source": [
    "1\\.b Make two new files, one containing the students belonging to PoD, the other to Physics."
   ]
  },
  {
   "cell_type": "markdown",
   "id": "8a43d622",
   "metadata": {},
   "source": [
    "1\\.c For each letter of the alphabet, count the number of students whose surname starts with that letter. "
   ]
  },
  {
   "cell_type": "markdown",
   "id": "4ba6bc90",
   "metadata": {},
   "source": [
    "1\\.d Find out which is the letter with most counts."
   ]
  },
  {
   "cell_type": "markdown",
   "id": "086a043c",
   "metadata": {},
   "source": [
    "1\\.e Assume an obvious numbering of the students in the file (first line is 1, second line is 2, etc.), group students \"modulo 18\", i.e. 1,19,37,.. 2,20,38,.. etc. and put each group in a separate file  "
   ]
  },
  {
   "cell_type": "code",
   "execution_count": null,
   "id": "683fce58",
   "metadata": {},
   "outputs": [],
   "source": [
    "#!/bin/bash\n",
    "\n",
    "# 1.a Create a directory called \"students\" in your home directory\n",
    "mkdir ~/students\n",
    "\n",
    "# Check if the CSV file is already present in the \"students\" directory\n",
    "if [ -e ~/students/students.csv ]; then\n",
    "    echo \"CSV file already exists.\"\n",
    "else\n",
    "    # Download the CSV file from the provided URL using wget\n",
    "    wget -O ~/students/students.csv https://www.dropbox.com/s/867rtx3az6e9gm8/LCP_22-23_students.csv\n",
    "fi\n",
    "\n",
    "# 1.b Extract students belonging to PoD and Physics into separate files\n",
    "grep \"PoD\" ~/students/students.csv > ~/students/pod_students.csv\n",
    "grep \"Physics\" ~/students/students.csv > ~/students/physics_students.csv\n",
    "\n",
    "# 1.c Count students by the first letter of their surname\n",
    "for letter in {A..Z}; do\n",
    "    count=$(grep -c \"^$letter\" ~/students/students.csv)\n",
    "    echo \"$letter: $count\"\n",
    "done\n",
    "\n",
    "# 1.d Find the letter with the most counts\n",
    "max_count=0\n",
    "max_letter=\"\"\n",
    "for letter in {A..Z}; do\n",
    "    count=$(grep -c \"^$letter\" ~/students/students.csv)\n",
    "    if [ $count -gt $max_count ]; then\n",
    "        max_count=$count\n",
    "        max_letter=$letter\n",
    "    fi\n",
    "done\n",
    "echo \"The letter with the most counts is $max_letter with $max_count students.\"\n",
    "\n",
    "# 1.e Group students by \"modulo 18\" and save each group in separate files\n",
    "for ((i = 1; i <= 18; i++)); do\n",
    "    group_file=\"~/students/group_$i.csv\"\n",
    "    awk -v group=\"$i\" 'NR % 18 == group' ~/students/students.csv > \"$group_file\"\n",
    "done\n"
   ]
  },
  {
   "cell_type": "markdown",
   "id": "1d730d21",
   "metadata": {},
   "source": [
    "### Ex 2"
   ]
  },
  {
   "cell_type": "markdown",
   "id": "4b87ecb7",
   "metadata": {},
   "source": [
    "2.a Make a copy of the file `data.csv` removing the metadata and the commas between numbers; call it `data.txt`"
   ]
  },
  {
   "cell_type": "markdown",
   "id": "344048c8",
   "metadata": {},
   "source": [
    "2\\.b How many even numbers are there?"
   ]
  },
  {
   "cell_type": "markdown",
   "id": "2a27138d",
   "metadata": {},
   "source": [
    "2\\.c Distinguish the entries on the basis of `sqrt(X^2 + Y^2 + Z^2)` is greater or smaller than `100*sqrt(3)/2`. Count the entries of each of the two groups "
   ]
  },
  {
   "cell_type": "markdown",
   "id": "e937ef4e",
   "metadata": {},
   "source": [
    "2\\.d Make `n` copies of data.txt (with `n` an input parameter of the script), where the i-th copy has all the numbers divided by i (with `1<=i<=n`)."
   ]
  },
  {
   "cell_type": "code",
   "execution_count": null,
   "id": "1a6da997",
   "metadata": {},
   "outputs": [],
   "source": [
    "#!/bin/bash\n",
    "\n",
    "# 2.a Make a copy of the file data.csv removing the metadata and the commas between numbers; call it data.txt\n",
    "grep -E '^[0-9]' data.csv | sed 's/,//g' > data.txt\n",
    "\n",
    "# 2.b How many even numbers are there?\n",
    "even_count=$(awk '{ if ($1 % 2 == 0) count++ } END { print count }' data.txt)\n",
    "echo \"Number of even numbers: $even_count\"\n",
    "\n",
    "# 2.c Distinguish the entries based on sqrt(X^2 + Y^2 + Z^2) is greater or smaller than 100*sqrt(3)/2. Count the entries of each of the two groups\n",
    "greater_than_threshold=0\n",
    "smaller_than_threshold=0\n",
    "threshold=$(echo \"100 * sqrt(3) / 2\" | bc -l)\n",
    "\n",
    "while IFS= read -r line; do\n",
    "    values=($line)\n",
    "    x=${values[0]}\n",
    "    y=${values[1]}\n",
    "    z=${values[2]}\n",
    "    distance=$(echo \"sqrt($x^2 + $y^2 + $z^2)\" | bc -l)\n",
    "    if (( $(echo \"$distance > $threshold\" | bc -l) )); then\n",
    "        ((greater_than_threshold++))\n",
    "    else\n",
    "        ((smaller_than_threshold++))\n",
    "    fi\n",
    "done < data.txt\n",
    "\n",
    "echo \"Entries with sqrt(X^2 + Y^2 + Z^2) > 100*sqrt(3)/2: $greater_than_threshold\"\n",
    "echo \"Entries with sqrt(X^2 + Y^2 + Z^2) <= 100*sqrt(3)/2: $smaller_than_threshold\"\n",
    "\n",
    "# 2.d Make n copies of data.txt (with n an input parameter of the script), where the i-th copy has all the numbers divided by i (with 1<=i<=n).\n",
    "n=$1\n",
    "for i in $(seq 1 $n); do\n",
    "    output_file=\"data_copy_$i.txt\"\n",
    "    awk -v divisor=$i '{ for (j = 1; j <= NF; j++) $j = $j / divisor; print }' data.txt > \"$output_file\"\n",
    "    echo \"Created $output_file with numbers divided by $i\"\n",
    "done\n"
   ]
  }
 ],
 "metadata": {
  "kernelspec": {
   "display_name": "Python 3 (ipykernel)",
   "language": "python",
   "name": "python3"
  },
  "language_info": {
   "codemirror_mode": {
    "name": "ipython",
    "version": 3
   },
   "file_extension": ".py",
   "mimetype": "text/x-python",
   "name": "python",
   "nbconvert_exporter": "python",
   "pygments_lexer": "ipython3",
   "version": "3.11.5"
  }
 },
 "nbformat": 4,
 "nbformat_minor": 5
}
