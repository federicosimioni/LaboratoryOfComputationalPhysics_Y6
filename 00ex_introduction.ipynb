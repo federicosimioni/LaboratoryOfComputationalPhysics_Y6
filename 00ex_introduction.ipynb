{
 "cells": [
  {
   "cell_type": "markdown",
   "metadata": {},
   "source": [
    "1. The MickeyMouse problem\n",
    "\n",
    "a) Write a program that prints the numbers from 1 to 100. But for multiples of 3 print `Mickey` instead of the corresponding number and for the multiples of 5 print `Mouse`. For numbers which are multiples of both three and five print `MickeyMouse`\n",
    "\n",
    "b) Put the result in a tuple and substitute `Mickey` with `Donald` and `Mouse` with `Duck`"
   ]
  },
  {
   "cell_type": "code",
   "execution_count": 1,
   "metadata": {},
   "outputs": [
    {
     "name": "stdout",
     "output_type": "stream",
     "text": [
      "1\n",
      "2\n",
      "Mickey\n",
      "4\n",
      "Mouse\n",
      "Mickey\n",
      "7\n",
      "8\n",
      "Mickey\n",
      "Mouse\n",
      "11\n",
      "Mickey\n",
      "13\n",
      "14\n",
      "MickeyMouse: \n",
      "16\n",
      "17\n",
      "Mickey\n",
      "19\n",
      "Mouse\n",
      "Mickey\n",
      "22\n",
      "23\n",
      "Mickey\n",
      "Mouse\n",
      "26\n",
      "Mickey\n",
      "28\n",
      "29\n",
      "MickeyMouse: \n",
      "31\n",
      "32\n",
      "Mickey\n",
      "34\n",
      "Mouse\n",
      "Mickey\n",
      "37\n",
      "38\n",
      "Mickey\n",
      "Mouse\n",
      "41\n",
      "Mickey\n",
      "43\n",
      "44\n",
      "MickeyMouse: \n",
      "46\n",
      "47\n",
      "Mickey\n",
      "49\n",
      "Mouse\n",
      "Mickey\n",
      "52\n",
      "53\n",
      "Mickey\n",
      "Mouse\n",
      "56\n",
      "Mickey\n",
      "58\n",
      "59\n",
      "MickeyMouse: \n",
      "61\n",
      "62\n",
      "Mickey\n",
      "64\n",
      "Mouse\n",
      "Mickey\n",
      "67\n",
      "68\n",
      "Mickey\n",
      "Mouse\n",
      "71\n",
      "Mickey\n",
      "73\n",
      "74\n",
      "MickeyMouse: \n",
      "76\n",
      "77\n",
      "Mickey\n",
      "79\n",
      "Mouse\n",
      "Mickey\n",
      "82\n",
      "83\n",
      "Mickey\n",
      "Mouse\n",
      "86\n",
      "Mickey\n",
      "88\n",
      "89\n",
      "MickeyMouse: \n",
      "91\n",
      "92\n",
      "Mickey\n",
      "94\n",
      "Mouse\n",
      "Mickey\n",
      "97\n",
      "98\n",
      "Mickey\n",
      "Mouse\n"
     ]
    }
   ],
   "source": [
    "for num in range(1,101):\n",
    "    if num % 3 == 0 and num % 5 == 0:\n",
    "        print(\"MickeyMouse: \")\n",
    "      \n",
    "    elif num % 3 == 0:\n",
    "        print(\"Mickey\" )\n",
    "     \n",
    "    elif num % 5 == 0:\n",
    "        print(\"Mouse\" )\n",
    "    else:\n",
    "        print(num)\n"
   ]
  },
  {
   "cell_type": "code",
   "execution_count": 2,
   "metadata": {},
   "outputs": [
    {
     "name": "stdout",
     "output_type": "stream",
     "text": [
      "(1, 2, 'Donald', 4, 'Duck', 'Donald', 7, 8, 'Donald', 'Duck', 11, 'Donald', 13, 14, 'DonaldDuck', 16, 17, 'Donald', 19, 'Duck', 'Donald', 22, 23, 'Donald', 'Duck', 26, 'Donald', 28, 29, 'DonaldDuck', 31, 32, 'Donald', 34, 'Duck', 'Donald', 37, 38, 'Donald', 'Duck', 41, 'Donald', 43, 44, 'DonaldDuck', 46, 47, 'Donald', 49, 'Duck', 'Donald', 52, 53, 'Donald', 'Duck', 56, 'Donald', 58, 59, 'DonaldDuck', 61, 62, 'Donald', 64, 'Duck', 'Donald', 67, 68, 'Donald', 'Duck', 71, 'Donald', 73, 74, 'DonaldDuck', 76, 77, 'Donald', 79, 'Duck', 'Donald', 82, 83, 'Donald', 'Duck', 86, 'Donald', 88, 89, 'DonaldDuck', 91, 92, 'Donald', 94, 'Duck', 'Donald', 97, 98, 'Donald', 'Duck')\n",
      "<class 'tuple'>\n"
     ]
    }
   ],
   "source": [
    "#create a list\n",
    "\n",
    "a=[]\n",
    "\n",
    "#put element inside the list\n",
    "\n",
    "for num in range(1,101):\n",
    "    if num % 3 == 0 and num % 5 == 0:\n",
    "        num=\"MickeyMouse\"\n",
    "        a.append(num)\n",
    "    elif num % 3 == 0:\n",
    "        num=\"Mickey\"\n",
    "        a.append(num)\n",
    "    elif num % 5 == 0:\n",
    "        num=\"Mouse\"\n",
    "        a.append(num)\n",
    "    else:\n",
    "        a.append(num)\n",
    "        \n",
    "#convert into a tuble\n",
    "a_tuple = tuple(a)\n",
    "\n",
    "\n",
    "#substitute in a tuple the words\n",
    "a_tuple = ['Donald' if i=='Mickey' else i for i in a_tuple]\n",
    "a_tuple = ['Duck' if i=='Mouse' else i for i in a_tuple]\n",
    "a_tuple = ['DonaldDuck' if i=='MickeyMouse' else i for i in a_tuple]\n",
    "\n",
    "a_tuple = tuple(a_tuple)\n",
    "type_check=type(a_tuple)\n",
    "\n",
    "#check element and type\n",
    "print(a_tuple)\n",
    "print(type_check)"
   ]
  },
  {
   "cell_type": "markdown",
   "metadata": {},
   "source": [
    "2\\. The swap function\n",
    "\n",
    "Write a function that swap the values of two input variables x and y (whatever the type). Try to do that also without a temporary variable"
   ]
  },
  {
   "cell_type": "code",
   "execution_count": 3,
   "metadata": {},
   "outputs": [
    {
     "name": "stdout",
     "output_type": "stream",
     "text": [
      "The value of x after swapping: 10\n",
      "The value of y after swapping: 5\n",
      "The value of x after swapping without temporary: 10\n",
      "The value of y after swapping without temporary 5\n"
     ]
    }
   ],
   "source": [
    "#with temporary \n",
    "def my_f(x,y):\n",
    "    temp = x\n",
    "    x = y\n",
    "    y = temp\n",
    "    print('The value of x after swapping: {}'.format(x))\n",
    "    print('The value of y after swapping: {}'.format(y))\n",
    "    \n",
    "#without temporary \n",
    "def my_f1(x1,y1):\n",
    "    x1, y1 = y1, x1\n",
    "    print(\"The value of x after swapping without temporary:\", x1)\n",
    "    print(\"The value of y after swapping without temporary\", y1)\n",
    "    \n",
    "my_f(5,10)\n",
    "my_f1(5,10)"
   ]
  },
  {
   "cell_type": "markdown",
   "metadata": {},
   "source": [
    "3\\. Computing the distance\n",
    "\n",
    "Write a function that calculates and returns the euclidean distance between two points *u* and *v*, where *u* and *v* are both 2-tuples *(x,y)*. For example, if *u=(3,0)* and *v=(0,4)*, the function should return 5"
   ]
  },
  {
   "cell_type": "code",
   "execution_count": 4,
   "metadata": {},
   "outputs": [
    {
     "name": "stdout",
     "output_type": "stream",
     "text": [
      "Euclidean distance between u and v: 5.0\n"
     ]
    }
   ],
   "source": [
    "import math \n",
    "\n",
    "def f(u,v):\n",
    "    dist=math.sqrt(pow((u[0]-v[0]),2)+pow((u[1]-v[1]),2))\n",
    "    return dist\n",
    "\n",
    "u=(3,0)\n",
    "v=(0,4)\n",
    "\n",
    "print(\"The euclidean distance is:\", f(u,v))"
   ]
  },
  {
   "cell_type": "markdown",
   "metadata": {},
   "source": [
    "4\\. Counting letters\n",
    "\n",
    "Write a program to calculate the number of times each character occurs in a given string *s*. Ignore differneces in capitalization"
   ]
  },
  {
   "cell_type": "code",
   "execution_count": 4,
   "metadata": {},
   "outputs": [
    {
     "name": "stdout",
     "output_type": "stream",
     "text": [
      "Count of s  is : 9\n",
      "Count of all characters in  :\n",
      "  Counter({' ': 41, 'e': 22, 't': 19, 'r': 17, 'i': 14, 'o': 13, 'n': 10, 'h': 9, 's': 9, 'u': 9, 'f': 9, 'p': 8, 'm': 8, 'a': 7, 'l': 6, 'b': 4, 'M': 4, 'c': 3, 'd': 3, '1': 2, '0': 2, '.': 2, 'k': 2, 'y': 2, 'v': 2, 'W': 1, 'g': 1, 'B': 1, 'F': 1, 'w': 1})\n"
     ]
    }
   ],
   "source": [
    "#one letter\n",
    "# initializing string \n",
    "test_str = \"Write a program that prints the numbers from 1 to 100. \\\n",
    "But for multiples of three print Mickey instead of the number and for the multiples of five print Mouse. \\\n",
    "For numbers which are multiples of both three and five print MickeyMouse\"\n",
    "  \n",
    "# using count() to get count \n",
    "# counting s\n",
    "counter = test_str.count('s')\n",
    "  \n",
    "# printing result \n",
    "print (\"Count of s  is : \"\n",
    "                           +  str(counter))\n",
    "\n",
    "#all letters\n",
    "from collections import Counter\n",
    "res = Counter(test_str)\n",
    "print (\"Count of all characters in  :\\n \",res)\n",
    "                                        "
   ]
  },
  {
   "cell_type": "markdown",
   "metadata": {},
   "source": [
    "5\\. Isolating the unique\n",
    "\n",
    "Write a function that determines and count the unique numbers in the list *l*"
   ]
  },
  {
   "cell_type": "code",
   "execution_count": 5,
   "metadata": {},
   "outputs": [
    {
     "name": "stdout",
     "output_type": "stream",
     "text": [
      "The new list is: [58, 74, 96, 64, 10, 24, 19, 33, 86, 99, 18, 47, 88, 55, 54, 8, 79, 81, 57, 37, 1, 9, 95, 90, 98, 39, 16, 82, 92, 41, 30, 94, 5, 72, 87, 75, 53]\n",
      "\n",
      "\n",
      "The number of total unique numbers is: 37\n"
     ]
    }
   ],
   "source": [
    "l = [36, 45, 58, 3, 74, 96, 64, 45, 31, 10, 24, 19, 33, 86, 99, 18, 63, 70, 85,\n",
    " 85, 63, 47, 56, 42, 70, 84, 88, 55, 20, 54, 8, 56, 51, 79, 81, 57, 37, 91,\n",
    " 1, 84, 84, 36, 66, 9, 89, 50, 42, 91, 50, 95, 90, 98, 39, 16, 82, 31, 92, 41,\n",
    " 45, 30, 66, 70, 34, 85, 94, 5, 3, 36, 72, 91, 84, 34, 87, 75, 53, 51, 20, 89, 51, 20]\n",
    "\n",
    "res = [i for i in l if l.count(i) == 1]\n",
    "\n",
    "print(\"The new list is:\",res)\n",
    "print(\"\\n\")\n",
    "print(\"The number of total unique numbers is:\",len(res))"
   ]
  },
  {
   "cell_type": "markdown",
   "metadata": {},
   "source": [
    "6\\. Combination of functions\n",
    "\n",
    "Write two functions - one that returns the square of a number, and one that returns the cube. Now write a third function that returns the number raised to the 6th power using the two previous functions."
   ]
  },
  {
   "cell_type": "code",
   "execution_count": 7,
   "metadata": {},
   "outputs": [
    {
     "name": "stdout",
     "output_type": "stream",
     "text": [
      "2 squared is 4\n",
      "2 cubed is 8\n",
      "2 to the 6th power is 64\n"
     ]
    }
   ],
   "source": [
    "def f1(a):\n",
    "    asq=pow(a,2)\n",
    "    return asq\n",
    "\n",
    "def f2(b):\n",
    "    bsq=pow(b,3)\n",
    "    return bsq\n",
    "\n",
    "print(\"the given number is:\", 2)\n",
    "print(\"the square of the input number is:\", f1(2))\n",
    "print(\"the cube of the input number is:\", f2(2))\n",
    "\n",
    "\n",
    "def f4(a):\n",
    "    sixth=f1(f2(a))\n",
    "    return sixth\n",
    "\n",
    "print(\"the 6th power of the input number is:\",f4(2))\n"
   ]
  },
  {
   "cell_type": "markdown",
   "metadata": {},
   "source": [
    "7\\. Cubes\n",
    "\n",
    "Create a list of the cubes of x for x in *[0, 10]* using:\n",
    "\n",
    "a) a for loop\n",
    "\n",
    "b) a list comprehension"
   ]
  },
  {
   "cell_type": "code",
   "execution_count": 6,
   "metadata": {},
   "outputs": [
    {
     "name": "stdout",
     "output_type": "stream",
     "text": [
      "the new list with loop is: [0, 1, 8, 27, 64, 125, 216, 343, 512, 729]\n",
      "the new list with loop is: [0, 1, 8, 27, 64, 125, 216, 343, 512, 729]\n"
     ]
    }
   ],
   "source": [
    "x=list(range(0,10))\n",
    "x_c=[]\n",
    "for num in x:\n",
    "    num=pow(num,3)\n",
    "    x_c.append(num)\n",
    "\n",
    "print(\"the new list with loop is:\", x_c)\n",
    "\n",
    "x_c2=[pow(num,3) for num in x]\n",
    "\n",
    "print(\"the new list with loop is:\", x_c2)"
   ]
  },
  {
   "cell_type": "markdown",
   "metadata": {},
   "source": [
    "8\\. Nested list comprehension\n",
    "\n",
    "A Pythagorean triple is an integer solution to the Pythagorean theorem $a^2+b^2=c^2$. The first Pythagorean triple is (3,4,5). Find and put in a tuple all unique Pythagorean triples for the positive integers a, b and c less than 100."
   ]
  },
  {
   "cell_type": "code",
   "execution_count": 7,
   "metadata": {},
   "outputs": [
    {
     "name": "stdout",
     "output_type": "stream",
     "text": [
      "Enter upper limit:100\n",
      "\n",
      "\n",
      "Pythagorean triples for the positive integers a, b and c are:\n",
      "\n",
      "\n",
      "([3, 4, 5], [4, 5, 8], [5, 8, 6], [8, 6, 10], [6, 10, 5], [10, 5, 12], [5, 12, 13], [12, 13, 15], [13, 15, 8], [15, 8, 17], [8, 17, 12], [17, 12, 16], [12, 16, 20], [16, 20, 7], [20, 7, 24], [7, 24, 25], [24, 25, 24], [25, 24, 10], [24, 10, 26], [10, 26, 21], [26, 21, 20], [21, 20, 29], [20, 29, 16], [29, 16, 30], [16, 30, 34], [30, 34, 9], [34, 9, 40], [9, 40, 41], [40, 41, 35], [41, 35, 12], [35, 12, 37], [12, 37, 32], [37, 32, 24], [32, 24, 40], [24, 40, 27], [40, 27, 36], [27, 36, 45], [36, 45, 20], [45, 20, 48], [20, 48, 52], [48, 52, 11], [52, 11, 60], [11, 60, 61], [60, 61, 48], [61, 48, 14], [48, 14, 50], [14, 50, 45], [50, 45, 28], [45, 28, 53], [28, 53, 40], [53, 40, 42], [40, 42, 58], [42, 58, 33], [58, 33, 56], [33, 56, 65], [56, 65, 24], [65, 24, 70], [24, 70, 74], [70, 74, 13], [74, 13, 84], [13, 84, 85], [84, 85, 63], [85, 63, 16], [63, 16, 65], [16, 65, 60], [65, 60, 32], [60, 32, 68], [32, 68, 55], [68, 55, 48], [55, 48, 73], [48, 73, 48], [73, 48, 64], [48, 64, 80], [64, 80, 39], [80, 39, 80], [39, 80, 89], [80, 89, 28], [89, 28, 96], [28, 96, 100])\n"
     ]
    }
   ],
   "source": [
    "limit=int(input(\"Enter upper limit:\"))\n",
    "c=0\n",
    "m=2\n",
    "mylist=[]\n",
    "while(c<limit):\n",
    "    for n in range(1,m+1):\n",
    "        a=m*m-n*n\n",
    "        b=2*m*n\n",
    "        c=m*m+n*n\n",
    "        if(c>limit):\n",
    "            break\n",
    "        if(a==0 or b==0 or c==0):\n",
    "            break\n",
    "        mylist.extend((a,b,c))\n",
    "           \n",
    "       \n",
    "    m=m+1\n",
    "\n",
    "mylist\n",
    "\n",
    "List = [mylist[i:i + 3]\n",
    "   for i in range(len(mylist) - 2)]\n",
    "\n",
    "List=tuple(List)\n",
    "print(\"\\n\")\n",
    "print(\"Pythagorean triples for the positive integers a, b and c are:\")\n",
    "print(\"\\n\")\n",
    "print(List)"
   ]
  },
  {
   "cell_type": "markdown",
   "metadata": {},
   "source": [
    "9\\. Normalization\n",
    "\n",
    "Write a function that takes a tuple of numbers and returns it with the entries normalized to one"
   ]
  },
  {
   "cell_type": "code",
   "execution_count": 9,
   "metadata": {},
   "outputs": [
    {
     "name": "stdout",
     "output_type": "stream",
     "text": [
      "Not normalized list: (0, 1, 2, 3, 4)\n",
      "\n",
      "\n",
      "Normalized list: (0.0, 0.1, 0.2, 0.3, 0.4)\n"
     ]
    }
   ],
   "source": [
    "n=5\n",
    "mylist=list(range(0,n))\n",
    "newlist=[i/sum(mylist) for i in mylist]\n",
    "\n",
    "mylist=tuple(mylist)\n",
    "newlist=tuple(newlist)\n",
    "\n",
    "print(\"Not normalized list:\",mylist)\n",
    "print(\"\\n\")\n",
    "print(\"Normalized list:\",newlist)\n"
   ]
  },
  {
   "cell_type": "code",
   "execution_count": null,
   "metadata": {},
   "outputs": [],
   "source": []
  }
 ],
 "metadata": {
  "kernelspec": {
   "display_name": "Python 3 (ipykernel)",
   "language": "python",
   "name": "python3"
  },
  "language_info": {
   "codemirror_mode": {
    "name": "ipython",
    "version": 3
   },
   "file_extension": ".py",
   "mimetype": "text/x-python",
   "name": "python",
   "nbconvert_exporter": "python",
   "pygments_lexer": "ipython3",
   "version": "3.11.5"
  }
 },
 "nbformat": 4,
 "nbformat_minor": 2
}
