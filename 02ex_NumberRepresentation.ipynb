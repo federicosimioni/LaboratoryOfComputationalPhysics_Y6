{
 "cells": [
  {
   "cell_type": "markdown",
   "metadata": {},
   "source": [
    "1\\. Write a function that converts number representation, bin<->dec<->hex. (Clearly using the corresponding python built-in functions is not fair..)"
   ]
  },
  {
   "cell_type": "code",
   "execution_count": 7,
   "metadata": {},
   "outputs": [
    {
     "name": "stdout",
     "output_type": "stream",
     "text": [
      "0b10000\n",
      "25\n",
      "0xFF\n",
      "255\n",
      "0x36\n",
      "0b10101010\n"
     ]
    }
   ],
   "source": [
    "def dec_to_bin(decimal):\n",
    "    if decimal == 0:\n",
    "        return '0b0'\n",
    "    binary = ''\n",
    "    while decimal > 0:\n",
    "        binary = str(decimal % 2) + binary\n",
    "        decimal = decimal // 2\n",
    "    return '0b' + binary\n",
    "\n",
    "def bin_to_dec(binary):\n",
    "    binary = binary[2:]  # Remove '0b' prefix\n",
    "    decimal = 0\n",
    "    for digit in binary:\n",
    "        decimal = decimal * 2 + int(digit)\n",
    "    return decimal\n",
    "\n",
    "def dec_to_hex(decimal):\n",
    "    hex_chars = \"0123456789ABCDEF\"\n",
    "    if decimal == 0:\n",
    "        return '0x0'\n",
    "    hex_str = ''\n",
    "    while decimal > 0:\n",
    "        hex_str = hex_chars[decimal % 16] + hex_str\n",
    "        decimal = decimal // 16\n",
    "    return '0x' + hex_str\n",
    "\n",
    "def hex_to_dec(hexadecimal):\n",
    "    hex_chars = \"0123456789ABCDEF\"\n",
    "    hexadecimal = hexadecimal[2:]  # Remove '0x' prefix\n",
    "    decimal = 0\n",
    "    for digit in hexadecimal:\n",
    "        decimal = decimal * 16 + hex_chars.index(digit)\n",
    "    return decimal\n",
    "\n",
    "def bin_to_hex(binary):\n",
    "    decimal = bin_to_dec(binary)\n",
    "    return dec_to_hex(decimal)\n",
    "\n",
    "def hex_to_bin(hexadecimal):\n",
    "    decimal = hex_to_dec(hexadecimal)\n",
    "    return dec_to_bin(decimal)\n",
    "\n",
    "# Example usage:\n",
    "print(dec_to_bin(16))  # Convert decimal to binary\n",
    "print(bin_to_dec('0b11001'))  # Convert binary to decimal\n",
    "print(dec_to_hex(255))  # Convert decimal to hexadecimal\n",
    "print(hex_to_dec('0xFF'))  # Convert hexadecimal to decimal\n",
    "print(bin_to_hex('0b110110'))  # Convert binary to hexadecimal\n",
    "print(hex_to_bin('0xAA'))  # Convert hexadecimal to binary\n"
   ]
  },
  {
   "cell_type": "markdown",
   "metadata": {},
   "source": [
    "2\\. Write a function that converts a 32 bit word into a single precision floating point (i.e. interprets the various bits as sign, mantissa and exponent)"
   ]
  },
  {
   "cell_type": "code",
   "execution_count": 1,
   "metadata": {},
   "outputs": [
    {
     "name": "stdout",
     "output_type": "stream",
     "text": [
      "The initial was  11000000001111111000110010101010 \n",
      "\n",
      "Coverting in single precision floating point ->  -2.9929604530334473\n"
     ]
    }
   ],
   "source": [
    "n32 = \"11000000001111111000110010101010\"\n",
    "\n",
    "bias=127\n",
    "sign = int(n32[0])\n",
    "exp = (n32[1:9])\n",
    "mant = (n32[9:])\n",
    "frac=1\n",
    "\n",
    "for i in range(1,24):\n",
    "    frac +=  int(mant[i-1])*2**(-i)\n",
    "\n",
    "print(\"The initial was \" , n32 ,\"\\n\")\n",
    "print(\"Coverting in single precision floating point -> \", (-1)**(sign) * frac * 2**(int(exp,2) - bias))"
   ]
  },
  {
   "cell_type": "markdown",
   "metadata": {},
   "source": [
    "3\\. Write a program to determine the underflow and overflow limits (within a factor of 2) for python on your computer. \n",
    "\n",
    "**Tips**: define two variables inizialized to 1 and halve/double them enough time to exceed the under/over-flow limits  "
   ]
  },
  {
   "cell_type": "code",
   "execution_count": 1,
   "metadata": {},
   "outputs": [
    {
     "name": "stdout",
     "output_type": "stream",
     "text": [
      "Overflow limit:  8.98846567431158e+307\n"
     ]
    }
   ],
   "source": [
    "previousprevious = 0\n",
    "previous = 0\n",
    "current  = 1. \n",
    "\n",
    "while(current > previous):\n",
    "    previousprevious = previous\n",
    "    previous = current\n",
    "    current *= 2\n",
    "\n",
    "print(\"Overflow limit: \", previousprevious)    "
   ]
  },
  {
   "cell_type": "code",
   "execution_count": 2,
   "metadata": {},
   "outputs": [
    {
     "name": "stdout",
     "output_type": "stream",
     "text": [
      "Underflow limit:  5e-324\n"
     ]
    }
   ],
   "source": [
    "previousprevious = 0\n",
    "previous = 2\n",
    "current  = 1.\n",
    "\n",
    "while(current < previous):\n",
    "    previousprevious = previous\n",
    "    previous = current\n",
    "    current /= 2\n",
    "\n",
    "print(\"Underflow limit: \", previousprevious)    "
   ]
  },
  {
   "cell_type": "markdown",
   "metadata": {},
   "source": [
    "4\\. Write a program to determine the machine precision\n",
    "\n",
    "**Tips**: define a new variable by adding a smaller and smaller value (proceeding similarly to prob. 2) to an original variable and check the point where the two are the same "
   ]
  },
  {
   "cell_type": "code",
   "execution_count": 5,
   "metadata": {},
   "outputs": [
    {
     "name": "stdout",
     "output_type": "stream",
     "text": [
      "The machine precision is: 1e-16\n"
     ]
    }
   ],
   "source": [
    "N=100\n",
    "a=1.0\n",
    "for n in range(N) :\n",
    "    b=a+1*pow(10,-n)\n",
    "    c=b-a\n",
    "    if c==0:\n",
    "        print(\"The machine precision is:\", pow(10,-n))\n",
    "        break "
   ]
  },
  {
   "cell_type": "markdown",
   "metadata": {},
   "source": [
    "5\\. Write a function that takes in input three parameters $a$, $b$ and $c$ and prints out the two solutions to the quadratic equation $ax^2+bx+c=0$ using the standard formula:\n",
    "$$\n",
    "x=\\frac{-b\\pm\\sqrt{b^2-4ac}}{2a}\n",
    "$$\n",
    "\n",
    "(a) use the program to compute the solution for $a=0.001$, $b=1000$ and $c=0.001$\n",
    "\n",
    "(b) re-express the standard solution formula by multiplying top and bottom by $-b\\mp\\sqrt{b^2-4ac}$ and again find the solution for $a=0.001$, $b=1000$ and $c=0.001$. How does it compare with what previously obtained? Why?\n",
    "\n",
    "(c) write a function that compute the roots of a quadratic equation accurately in all cases"
   ]
  },
  {
   "cell_type": "code",
   "execution_count": 6,
   "metadata": {},
   "outputs": [
    {
     "name": "stdout",
     "output_type": "stream",
     "text": [
      "The equation is: 0.001 x^2   +  1000 x  +  0.001 =0\n",
      "The two solutions are: x1= -9.999894245993346e-07 and x2= -999999.999999\n"
     ]
    }
   ],
   "source": [
    "from math import sqrt\n",
    "\n",
    "#a\n",
    "def f(a,b,c):\n",
    "    x1=(-b + sqrt(pow(b,2)-4*c*a))/(2*a)\n",
    "    x2=(-b - sqrt(pow(b,2)-4*c*a))/(2*a)\n",
    "    print(\"The equation is:\" ,a,\"x^2 \",\" +\",\"\",b,\"x\", \" +\", \"\", c, \"=0\" )\n",
    "    print(\"The two solutions are:\",\"x1=\", x1, \"and\",\"x2=\", x2)\n",
    "    \n",
    "f(0.001,1000,0.001)\n"
   ]
  },
  {
   "cell_type": "code",
   "execution_count": 7,
   "metadata": {},
   "outputs": [
    {
     "name": "stdout",
     "output_type": "stream",
     "text": [
      "The equation is: 0.001 x^2   +  1000 x  +  0.001 =0\n",
      "The two solutions are: x1= -1000010.5755125057 and x2= -1.000000000001e-06\n"
     ]
    }
   ],
   "source": [
    "#b\n",
    "def f2(a,b,c):\n",
    "    x1=(2*c)/((-b + sqrt(pow(b,2)-4*c*a)))\n",
    "    x2=(2*c)/((-b - sqrt(pow(b,2)-4*c*a)))\n",
    "    print(\"The equation is:\" ,a,\"x^2 \",\" +\",\"\",b,\"x\", \" +\", \"\", c, \"=0\" )\n",
    "    print(\"The two solutions are:\",\"x1=\", x1, \"and\",\"x2=\", x2)\n",
    "    \n",
    "f2(0.001,1000,0.001)"
   ]
  },
  {
   "cell_type": "markdown",
   "metadata": {},
   "source": [
    "We can see that the accurancy changes. They have the same order of magnitude but the accurancy in the first case is way better than in the second one. Therefore there is an roundoff error comparing the two . We got problems in subtracting numbers really closed by in value and also in the distributive law."
   ]
  },
  {
   "cell_type": "code",
   "execution_count": 8,
   "metadata": {},
   "outputs": [
    {
     "name": "stdout",
     "output_type": "stream",
     "text": [
      " real and different roots \n",
      "-9.999894245993346e-07\n",
      "-999999.999999\n"
     ]
    }
   ],
   "source": [
    "#c \n",
    "# Python program to find roots of quadratic equation\n",
    "\n",
    "import math \n",
    "  \n",
    "  \n",
    " #function for finding roots\n",
    "def equationroots( a, b, c): \n",
    "    \n",
    "    \n",
    "    # calculating discriminant using formula\n",
    "    dis = b * b - 4 * a * c \n",
    "    sqrt_val = math.sqrt(abs(dis)) \n",
    "      \n",
    "    if a==0:\n",
    "        print(\"You didn't write a quadratic equation!\")\n",
    "        print(\"You have just one solution: x=\", -c/b)\n",
    "        \n",
    "    # checking condition for discriminant\n",
    "    elif dis > 0 : \n",
    "        print(\" real and different roots \") \n",
    "        print((-b + sqrt_val)/(2 * a)) \n",
    "        print((-b - sqrt_val)/(2 * a)) \n",
    "      \n",
    "    elif dis == 0: \n",
    "        print(\" real and same roots\") \n",
    "        print(-b / (2 * a)) \n",
    "      \n",
    "    # when discriminant is less than 0\n",
    "    else:\n",
    "        print(\"Complex Roots\") \n",
    "        print(- b / (2 * a), \" + i\", sqrt_val) \n",
    "        print(- b / (2 * a), \" - i\", sqrt_val) \n",
    "        \n",
    "  \n",
    "equationroots( 0.001, 1000, 0.001)"
   ]
  },
  {
   "cell_type": "markdown",
   "metadata": {},
   "source": [
    "6\\. Write a program that implements the function $f(x)=x(x−1)$\n",
    "\n",
    "(a) Calculate the derivative of the function at the point $x = 1$ using the derivative definition:\n",
    "\n",
    "$$\n",
    "\\frac{{\\rm d}f}{{\\rm d}x} = \\lim_{\\delta\\to0} \\frac{f(x+\\delta)-f(x)}{\\delta}\n",
    "$$\n",
    "\n",
    "with $\\delta = 10^{−2}$. Calculate the true value of the same derivative analytically and compare with the answer your program gives. The two will not agree perfectly. Why not?\n",
    "\n",
    "(b) Repeat the calculation for $\\delta = 10^{−4}, 10^{−6}, 10^{−8}, 10^{−10}, 10^{−12}$ and $10^{−14}$. How does the accuracy scales with $\\delta$?"
   ]
  },
  {
   "cell_type": "code",
   "execution_count": 4,
   "metadata": {
    "scrolled": true
   },
   "outputs": [
    {
     "name": "stdout",
     "output_type": "stream",
     "text": [
      "delta \t computed df\t analytic df\n",
      "1e-02 \t 1.010000000 \t 1.0000000\n",
      "1e-04 \t 1.000100000 \t 1.0000000\n",
      "1e-06 \t 1.000001000 \t 1.0000000\n",
      "1e-08 \t 1.000000004 \t 1.0000000\n",
      "1e-10 \t 1.000000083 \t 1.0000000\n",
      "1e-12 \t 1.000088901 \t 1.0000000\n",
      "1e-14 \t 0.999200722 \t 1.0000000\n"
     ]
    },
    {
     "data": {
      "text/plain": [
       "Text(0.5, 0, 'delta')"
      ]
     },
     "execution_count": 4,
     "metadata": {},
     "output_type": "execute_result"
    },
    {
     "data": {
      "image/png": "[encoded data removed]",
      "text/plain": [
       "<Figure size 640x480 with 1 Axes>"
      ]
     },
     "metadata": {},
     "output_type": "display_data"
    }
   ],
   "source": [
    "import numpy as np\n",
    "delta = 10**-2\n",
    "\n",
    "def f(x):\n",
    "    return x*(x-1)\n",
    "\n",
    "def df(x):\n",
    "    return 2*x-1\n",
    "\n",
    "compDer = []\n",
    "anDer   = []\n",
    "deltas  = []\n",
    "#print(\"legend: computed derivative-> $d_c(f)$, analytic derivative-> $d_a(f)$\\n\")\n",
    "print(\"delta \\t computed df\\t analytic df\")\n",
    "for i in range(7):\n",
    "    x = 1\n",
    "    derivative = (f(x+delta)-f(x))/delta\n",
    "    print(\"%.e \\t %10.9f \\t %8.7f\"%(delta, derivative, df(x)))#, derivative, df(x))\n",
    "    anDer.append(df(x))\n",
    "    compDer.append(derivative)\n",
    "    deltas.append(delta)\n",
    "    delta /= 10**2\n",
    "    \n",
    "from matplotlib import pyplot as plt\n",
    "plt.xscale('log')\n",
    "plt.plot(deltas, abs(np.array(compDer)-np.array(anDer)), \"rx\")\n",
    "plt.ylabel(\"|computed - analytic|\")\n",
    "plt.xlabel(\"delta\")"
   ]
  },
  {
   "cell_type": "markdown",
   "metadata": {},
   "source": [
    "It's evident that the two derivatives will not agree perfectly due to the discretization of $\\delta$, the intersting fact is that we will expect an increasing accuracy for smaller $\\delta$ but that's not what we observe. In fact, as $\\delta$ becomes smaller, the function $\\frac{f(x+\\delta)-f(x)}{\\delta}$ becomes poorly conditioned, i.e. big variations in output for small input variation."
   ]
  },
  {
   "cell_type": "markdown",
   "metadata": {},
   "source": [
    "7\\. Consider the integral of the semicircle of radius 1:\n",
    "$$\n",
    "I=\\int_{-1}^{1} \\sqrt(1-x^2) {\\rm d}x\n",
    "$$\n",
    "which it's known to be $I=\\frac{\\pi}{2}=1.57079632679...$.\n",
    "Alternatively we can use the Riemann definition of the integral:\n",
    "$$\n",
    "I=\\lim_{N\\to\\infty} \\sum_{k=1}^{N} h y_k \n",
    "$$\n",
    "\n",
    "with $h=2/N$ the width of each of the $N$ slices the domain is divided into and where\n",
    "$y_k$ is the value of the function at the $k-$th slice.\n",
    "\n",
    "(a) Write a programe to compute the integral with $N=100$. How does the result compares to the true value?\n",
    "\n",
    "(b) How much can $N$ be increased if the computation needs to be run in less than a second? What is the gain in running it for 1 minute? \n"
   ]
  },
  {
   "cell_type": "code",
   "execution_count": 11,
   "metadata": {},
   "outputs": [
    {
     "name": "stdout",
     "output_type": "stream",
     "text": [
      "Calculated value of the Integral is =  1.5691342555492505\n",
      "Correct value is pi/2 =  1.5707963267948966\n",
      "Comparation: % change =  0.10581074180619238 %\n"
     ]
    }
   ],
   "source": [
    "#a\n",
    "\n",
    "import math as m\n",
    "\n",
    "def f(x):\n",
    "    return m.sqrt(1 - x**2)\n",
    "\n",
    "def integral(N):\n",
    "    integ=0\n",
    "    for k in range (1,N+1):\n",
    "        integ+=(2/N)*(f(-1 +(2/N)*k))\n",
    "    return integ\n",
    "\n",
    "#a)\n",
    "\n",
    "print(\"Calculated value of the Integral is = \" , integral(100))\n",
    "print(\"Correct value is pi/2 = \",  m.pi/2)\n",
    "print(\"Comparation: % change = \", 100* (m.pi/2 - integral(100))/(m.pi/2) , \"%\")\n"
   ]
  },
  {
   "cell_type": "code",
   "execution_count": 13,
   "metadata": {},
   "outputs": [
    {
     "name": "stdout",
     "output_type": "stream",
     "text": [
      "789 ms ± 24 ms per loop (mean ± std. dev. of 7 runs, 1 loop each)\n",
      "Calculated value of the Integral is =  1.5707963262069677\n",
      "Correct value is pi/2 =  1.5707963267948966\n",
      "Comparation: % change =  0.0007485742189653666 %\n"
     ]
    }
   ],
   "source": [
    "#b\n",
    "\n",
    "#less than a second\n",
    "\n",
    "%timeit integral(1*10**6)\n",
    "\n",
    "print(\"Calculated value of the Integral is = \" , integral(2*10**6))\n",
    "print(\"Correct value is pi/2 = \",  m.pi/2)\n",
    "print(\"Comparation: % change = \", 2*10**6* (m.pi/2 - integral(2*10**6))/(m.pi/2) , \"%\")\n",
    "\n"
   ]
  },
  {
   "cell_type": "code",
   "execution_count": 14,
   "metadata": {},
   "outputs": [
    {
     "name": "stdout",
     "output_type": "stream",
     "text": [
      "1min 36s ± 3.25 s per loop (mean ± std. dev. of 7 runs, 1 loop each)\n",
      "Calculated value of the Integral is =  1.5707963267944416\n",
      "Correct value is pi/2 =  1.5707963267948966\n",
      "Comparation: % change =  5.792850259838885e-05 %\n"
     ]
    }
   ],
   "source": [
    "#b\n",
    "\n",
    "#more than a miinute\n",
    "\n",
    "%timeit integral(2*10**8)\n",
    "\n",
    "print(\"Calculated value of the Integral is = \" , integral(2*10**8))\n",
    "print(\"Correct value is pi/2 = \",  m.pi/2)\n",
    "print(\"Comparation: % change = \", 2*10**8* (m.pi/2 - integral(2*10**8))/(m.pi/2) , \"%\")"
   ]
  },
  {
   "cell_type": "markdown",
   "metadata": {},
   "source": [
    "As we can see the gain is due to the fact that the acccurancy improved a lot"
   ]
  },
  {
   "cell_type": "code",
   "execution_count": null,
   "metadata": {},
   "outputs": [],
   "source": []
  }
 ],
 "metadata": {
  "kernelspec": {
   "display_name": "Python 3 (ipykernel)",
   "language": "python",
   "name": "python3"
  },
  "language_info": {
   "codemirror_mode": {
    "name": "ipython",
    "version": 3
   },
   "file_extension": ".py",
   "mimetype": "text/x-python",
   "name": "python",
   "nbconvert_exporter": "python",
   "pygments_lexer": "ipython3",
   "version": "3.11.5"
  }
 },
 "nbformat": 4,
 "nbformat_minor": 2
}
