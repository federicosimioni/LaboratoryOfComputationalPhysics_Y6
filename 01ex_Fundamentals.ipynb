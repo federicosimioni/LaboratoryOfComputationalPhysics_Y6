{
 "cells": [
  {
   "cell_type": "markdown",
   "metadata": {},
   "source": [
    "0\\. Implement a function (whatever you want) and save it to a file (e.g. `function.py`). Import that file and use that function in this notebook.\n"
   ]
  },
  {
   "cell_type": "code",
   "execution_count": 7,
   "metadata": {},
   "outputs": [],
   "source": [
    "# Step 1: Create the Python function, square of number in this case\n",
    "def square_number(number):\n",
    "    return number ** 2\n",
    "\n",
    "# Step 2: Save the function to a file (function.py)\n",
    "with open(\"function.py\", \"w\") as file:\n",
    "    file.write(\"def square_number(number):\\n\")\n",
    "    file.write(\"    return number ** 2\\n\")\n"
   ]
  },
  {
   "cell_type": "code",
   "execution_count": 8,
   "metadata": {},
   "outputs": [
    {
     "name": "stdout",
     "output_type": "stream",
     "text": [
      "The square of 5 is 25\n"
     ]
    }
   ],
   "source": [
    "# Step 3: Import and use the function in the Jupyter Notebook\n",
    "\n",
    "# Import the function from the file\n",
    "#from function import square_number\n",
    "#parallel to the two previous lines we can proceed even as follows\n",
    "import function\n",
    "\n",
    "# Test the function\n",
    "number = 5\n",
    "result = square_number(number)\n",
    "print(f\"The square of {number} is {result}\")\n"
   ]
  },
  {
   "cell_type": "markdown",
   "metadata": {},
   "source": [
    "1\\. Write the following as a list comprehension"
   ]
  },
  {
   "cell_type": "code",
   "execution_count": 9,
   "metadata": {},
   "outputs": [
    {
     "name": "stdout",
     "output_type": "stream",
     "text": [
      "[(0, 0), (0, 1), (0, 2), (0, 3), (1, 0), (1, 1), (1, 2), (1, 3), (2, 0), (2, 1), (2, 2), (2, 3)]\n",
      "[(0, 0), (0, 1), (0, 2), (0, 3), (1, 0), (1, 1), (1, 2), (1, 3), (2, 0), (2, 1), (2, 2), (2, 3)]\n"
     ]
    }
   ],
   "source": [
    "# 1\n",
    "ans = []\n",
    "for i in range(3):\n",
    "    for j in range(4):\n",
    "        ans.append((i, j))\n",
    "print (ans)\n",
    "\n",
    "#list comprehansion for the firs one\n",
    "ans = [(i,j) for i in range(3) for j in range(4)]\n",
    "print(ans)\n",
    "\n"
   ]
  },
  {
   "cell_type": "code",
   "execution_count": 10,
   "metadata": {},
   "outputs": [
    {
     "name": "stdout",
     "output_type": "stream",
     "text": [
      "[0, 4, 16]\n",
      "[0, 4, 16]\n"
     ]
    }
   ],
   "source": [
    "# 2\n",
    "ans = map(lambda x: x*x, filter(lambda x: x%2 == 0, range(5)))\n",
    "print (list(ans))\n",
    "\n",
    "#list comprehension\n",
    "ans=[x*x for x in range(5) if x%2==0]\n",
    "print(ans)"
   ]
  },
  {
   "cell_type": "markdown",
   "metadata": {},
   "source": [
    "2\\. Convert the following function into a pure function with no global variables or side effects"
   ]
  },
  {
   "cell_type": "code",
   "execution_count": 11,
   "metadata": {},
   "outputs": [
    {
     "name": "stdout",
     "output_type": "stream",
     "text": [
      "[1, 2, 3]\n",
      "[1, 2, 3, 0, 1, 2, 3, 4]\n"
     ]
    }
   ],
   "source": [
    "x = 5\n",
    "def f(alist):\n",
    "    for i in range(x):\n",
    "         alist.append(i)\n",
    "    return alist\n",
    "\n",
    "alist = [1,2,3]\n",
    "ans = f(alist)\n",
    "print (ans)\n",
    "print (alist) # alist has been changed!\n",
    "\n",
    "# pure function\n",
    "def pure_f(alist, length):\n",
    "    tmp_list = list(alist)\n",
    "    for i in range(length):\n",
    "        tmp_list.append(i)\n",
    "    return tmp_list\n",
    "\n",
    "alist = [1,2,3]\n",
    "x = 5\n",
    "ans = pure_f(alist, x)\n",
    "print(ans)\n",
    "print(alist)"
   ]
  },
  {
   "cell_type": "markdown",
   "metadata": {},
   "source": [
    "3\\. Write a `decorator` hello that makes every wrapped function print “Hello!”, i.e. something like:\n",
    "\n",
    "```python\n",
    "@hello\n",
    "def square(x):\n",
    "    return x*x\n",
    "```\n",
    "\n"
   ]
  },
  {
   "cell_type": "code",
   "execution_count": 12,
   "metadata": {},
   "outputs": [
    {
     "name": "stdout",
     "output_type": "stream",
     "text": [
      "4\n",
      "Hello\n"
     ]
    }
   ],
   "source": [
    "def hello(func):\n",
    "    def wrapper(x):\n",
    "        print(func(x))\n",
    "        print(\"Hello\")\n",
    "    return wrapper\n",
    "\n",
    "@hello\n",
    "def square(x):\n",
    "    return x*x\n",
    "\n",
    "square(2)"
   ]
  },
  {
   "cell_type": "markdown",
   "metadata": {},
   "source": [
    "4\\. Write the factorial function in python so that it a) does and b) does not use recursion."
   ]
  },
  {
   "cell_type": "code",
   "execution_count": 1,
   "metadata": {},
   "outputs": [
    {
     "name": "stdout",
     "output_type": "stream",
     "text": [
      "120\n",
      "120\n"
     ]
    }
   ],
   "source": [
    "# recursive factorial\n",
    "def recurs_fact(n): \n",
    "    if(n<2): \n",
    "        return 1\n",
    "    return n*recurs_fact(n-1)\n",
    "\n",
    "# not recursive factorial\n",
    "def fact(n):\n",
    "    if(n==0):\n",
    "        res = 1\n",
    "    else :\n",
    "        res = n\n",
    "    for i in range(n-1,1,-1):\n",
    "        res *= i\n",
    "    return res\n",
    "\n",
    "print(fact(5))\n",
    "print(recurs_fact(5))"
   ]
  },
  {
   "cell_type": "markdown",
   "metadata": {},
   "source": [
    "5\\. Use HOFs (zip in particular) to compute the weight of a circle, a disk and a sphere, assuming different radii and different densities:\n",
    "\n",
    "```python\n",
    "densities = {\"Al\":[0.5,1,2],\"Fe\":[3,4,5],\"Pb\": [15,20,30]}\n",
    "radii = [1,2,3]\n",
    "```\n",
    "\n",
    "where the entries of the dictionary's values are the linear, superficial and volumetric densities of the materials respectively.\n",
    "\n",
    "In particular define a list of three lambda functions using a comprehension that computes the circumference, the area and the volume for a given radius.\n"
   ]
  },
  {
   "cell_type": "code",
   "execution_count": 7,
   "metadata": {
    "scrolled": true
   },
   "outputs": [
    {
     "name": "stdout",
     "output_type": "stream",
     "text": [
      "############## version 1 ##############\n",
      "Element: Al , Radius: 1  Density = 0.5  Dim = 1  => weight = 3.141592653589793\n",
      "Element: Al , Radius: 2  Density = 0.5  Dim = 1  => weight = 6.283185307179586\n",
      "Element: Al , Radius: 3  Density = 0.5  Dim = 1  => weight = 9.42477796076938\n",
      "Element: Al , Radius: 1  Density = 1.0  Dim = 2  => weight = 3.141592653589793\n",
      "Element: Al , Radius: 2  Density = 1.0  Dim = 2  => weight = 12.566370614359172\n",
      "Element: Al , Radius: 3  Density = 1.0  Dim = 2  => weight = 28.274333882308138\n",
      "Element: Al , Radius: 1  Density = 2.0  Dim = 3  => weight = 8.377580409572781\n",
      "Element: Al , Radius: 2  Density = 2.0  Dim = 3  => weight = 67.02064327658225\n",
      "Element: Al , Radius: 3  Density = 2.0  Dim = 3  => weight = 226.1946710584651\n",
      "Element: Fe , Radius: 1  Density = 3.0  Dim = 1  => weight = 18.84955592153876\n",
      "Element: Fe , Radius: 2  Density = 3.0  Dim = 1  => weight = 37.69911184307752\n",
      "Element: Fe , Radius: 3  Density = 3.0  Dim = 1  => weight = 56.548667764616276\n",
      "Element: Fe , Radius: 1  Density = 4.0  Dim = 2  => weight = 12.566370614359172\n",
      "Element: Fe , Radius: 2  Density = 4.0  Dim = 2  => weight = 50.26548245743669\n",
      "Element: Fe , Radius: 3  Density = 4.0  Dim = 2  => weight = 113.09733552923255\n",
      "Element: Fe , Radius: 1  Density = 5.0  Dim = 3  => weight = 20.94395102393195\n",
      "Element: Fe , Radius: 2  Density = 5.0  Dim = 3  => weight = 167.5516081914556\n",
      "Element: Fe , Radius: 3  Density = 5.0  Dim = 3  => weight = 565.4866776461628\n",
      "Element: Pb , Radius: 1  Density =15.0  Dim = 1  => weight = 94.24777960769379\n",
      "Element: Pb , Radius: 2  Density =15.0  Dim = 1  => weight = 188.49555921538757\n",
      "Element: Pb , Radius: 3  Density =15.0  Dim = 1  => weight = 282.7433388230814\n",
      "Element: Pb , Radius: 1  Density =20.0  Dim = 2  => weight = 62.83185307179586\n",
      "Element: Pb , Radius: 2  Density =20.0  Dim = 2  => weight = 251.32741228718345\n",
      "Element: Pb , Radius: 3  Density =20.0  Dim = 2  => weight = 565.4866776461628\n",
      "Element: Pb , Radius: 1  Density =30.0  Dim = 3  => weight = 125.66370614359171\n",
      "Element: Pb , Radius: 2  Density =30.0  Dim = 3  => weight = 1005.3096491487337\n",
      "Element: Pb , Radius: 3  Density =30.0  Dim = 3  => weight = 3392.9200658769764\n"
     ]
    }
   ],
   "source": [
    "import numpy as np\n",
    "densities = {\"Al\":[0.5,1,2],\"Fe\":[3,4,5],\"Pb\": [15,20,30]}\n",
    "radii = [1,2,3]\n",
    "\n",
    "# version 1\n",
    "print(\"############## version 1 ##############\")\n",
    "lambdas = [lambda radii :[ 2*np.pi*r for r in radii], lambda radii : [np.pi*r**2 for r in radii], \n",
    "            lambda radii : [(4*np.pi*r**3)/3 for r in radii]]\n",
    "    \n",
    "for element in densities:\n",
    "    j = 0\n",
    "    for d, func in zip(densities[element], lambdas):\n",
    "            i = 0\n",
    "            j += 1\n",
    "            for k in func(radii):\n",
    "                w = k*d\n",
    "                print(\"Element:\", element,\", Radius:\", radii[i],\" Density =%4.1f\"%(d),\" Dim =\",j,\" => weight =\",w)\n",
    "                i+=1"
   ]
  },
  {
   "cell_type": "markdown",
   "metadata": {},
   "source": [
    "6\\. Edit the class defintion to add an instance attribute of is_hungry = True to the Dog class. Then add a method called eat() which changes the value of is_hungry to False when called. Figure out the best way to feed each dog and then output “My dogs are hungry.” if all are hungry or “My dogs are not hungry.” if all are not hungry. The final output should look like this:\n",
    "\n",
    "`I have 3 dogs. \n",
    "Tom is 6. \n",
    "Fletcher is 7. \n",
    "Larry is 9. \n",
    "And they're all mammals, of course. \n",
    "My dogs are not hungry.\n",
    "`\n",
    "\n",
    "```python\n",
    "# Parent class\n",
    "class Dog:\n",
    "\n",
    "    # Class attribute\n",
    "    species = 'mammal'\n",
    "\n",
    "    # Initializer / Instance attributes\n",
    "    def __init__(self, name, age):\n",
    "        self.name = name\n",
    "        self.age = age\n",
    "\n",
    "    # instance method\n",
    "    def description(self):\n",
    "        return \"{} is {} years old\".format(self.name, self.age)\n",
    "\n",
    "    # instance method\n",
    "    def speak(self, sound):\n",
    "        return \"{} says {}\".format(self.name, sound)\n",
    "\n",
    "# Child class (inherits from Dog class)\n",
    "class RussellTerrier(Dog):\n",
    "    def run(self, speed):\n",
    "        return \"{} runs {}\".format(self.name, speed)\n",
    "\n",
    "# Child class (inherits from Dog class)\n",
    "class Bulldog(Dog):\n",
    "    def run(self, speed):\n",
    "        return \"{} runs {}\".format(self.name, speed)\n",
    "```"
   ]
  },
  {
   "cell_type": "code",
   "execution_count": 4,
   "metadata": {},
   "outputs": [],
   "source": [
    "# Parent class\n",
    "class Dog:\n",
    "\n",
    "    # Class attribute\n",
    "    species = 'mammal'\n",
    "    is_hungry = True\n",
    "\n",
    "    # Initializer / Instance attributes\n",
    "    def __init__(self, name, age):\n",
    "        self.name = name\n",
    "        self.age = age\n",
    "\n",
    "    # instance method\n",
    "    def description(self):\n",
    "        return \"{} is {} years old.\".format(self.name, self.age)\n",
    "\n",
    "    # instance method\n",
    "    def speak(self, sound):\n",
    "        return \"{} says {}\".format(self.name, sound)\n",
    "    \n",
    "    # instance method\n",
    "    def eat(self):\n",
    "        self.is_hungry = False\n",
    "    \n",
    "# Child class (inherits from Dog class)\n",
    "class RussellTerrier(Dog):\n",
    "    def run(self, speed):\n",
    "        return \"{} runs {}\".format(self.name, speed)\n",
    "\n",
    "# Child class (inherits from Dog class)\n",
    "class Bulldog(Dog):\n",
    "    def run(self, speed):\n",
    "        return \"{} runs {}\".format(self.name, speed)"
   ]
  },
  {
   "cell_type": "code",
   "execution_count": 5,
   "metadata": {},
   "outputs": [
    {
     "name": "stdout",
     "output_type": "stream",
     "text": [
      "I have 3 dogs.\n",
      "Tom is 6 years old.\n",
      "Fletcher is 7 years old.\n",
      "Larry is 9 years old.\n",
      "And they are all mammal, of course.\n",
      "Tom is hungry. Give him some food.\n",
      "Fletcher is hungry. Give him some food.\n",
      "Larry is hungry. Give him some food.\n",
      "My dogs are not hungry\n"
     ]
    }
   ],
   "source": [
    "dogs = [RussellTerrier(\"Tom\",6), RussellTerrier(\"Fletcher\",7), Bulldog(\"Larry\",9)]\n",
    "print(\"I have %s dogs.\"%(len(dogs)))\n",
    "for dog in dogs:\n",
    "    print(dog.description())\n",
    "print(\"And they are all %s, of course.\" %(Dog.species))\n",
    "for dog in dogs:\n",
    "    if (dog.is_hungry):\n",
    "        print(\"%s is hungry. Give him some food.\"%dog.name)\n",
    "        dog.eat()\n",
    "if (len(list(filter(lambda dog: dog.is_hungry, dogs))) == 0):\n",
    "    print(\"My dogs are not hungry\")\n",
    "else:\n",
    "    print(\"My dogs are hungry\")\n"
   ]
  },
  {
   "cell_type": "code",
   "execution_count": null,
   "metadata": {},
   "outputs": [],
   "source": []
  }
 ],
 "metadata": {
  "kernelspec": {
   "display_name": "Python 3 (ipykernel)",
   "language": "python",
   "name": "python3"
  },
  "language_info": {
   "codemirror_mode": {
    "name": "ipython",
    "version": 3
   },
   "file_extension": ".py",
   "mimetype": "text/x-python",
   "name": "python",
   "nbconvert_exporter": "python",
   "pygments_lexer": "ipython3",
   "version": "3.11.5"
  }
 },
 "nbformat": 4,
 "nbformat_minor": 2
}
